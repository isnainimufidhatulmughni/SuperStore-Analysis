{
  "nbformat": 4,
  "nbformat_minor": 0,
  "metadata": {
    "colab": {
      "provenance": []
    },
    "kernelspec": {
      "name": "python3",
      "display_name": "Python 3"
    },
    "language_info": {
      "name": "python"
    }
  },
  "cells": [
    {
      "cell_type": "code",
      "execution_count": null,
      "metadata": {
        "colab": {
          "base_uri": "https://localhost:8080/"
        },
        "id": "ny-4YMlLBash",
        "outputId": "82a37357-87b1-4127-e9a0-65ea1d5d1ffa"
      },
      "outputs": [
        {
          "output_type": "stream",
          "name": "stdout",
          "text": [
            "numpy version :  1.25.2\n",
            "pandas version :  2.0.3\n",
            "seaborn version :  0.13.1\n"
          ]
        }
      ],
      "source": [
        "import numpy as np\n",
        "import pandas as pd\n",
        "import seaborn as sns\n",
        "import matplotlib.pyplot as plt\n",
        "%matplotlib inline\n",
        "\n",
        "pd.options.display.max_columns = 100\n",
        "\n",
        "\n",
        "print('numpy version : ',np.__version__)\n",
        "print('pandas version : ',pd.__version__)\n",
        "print('seaborn version : ',sns.__version__)"
      ]
    },
    {
      "cell_type": "markdown",
      "source": [
        "## Load Dataset"
      ],
      "metadata": {
        "id": "tG4MYEuqBvUQ"
      }
    },
    {
      "cell_type": "code",
      "source": [
        "# Load dataset in Google Colab\n",
        "data_path = '/content/superstore_dataset.csv'\n",
        "data = pd.read_csv(data_path)"
      ],
      "metadata": {
        "id": "4H4eAo9oBuH6"
      },
      "execution_count": null,
      "outputs": []
    },
    {
      "cell_type": "markdown",
      "source": [
        "---\n",
        "Data Understanding\n",
        "\n",
        "---\n",
        "\n"
      ],
      "metadata": {
        "id": "pPfv_Bq4Exbz"
      }
    },
    {
      "cell_type": "code",
      "source": [
        "data.info()"
      ],
      "metadata": {
        "colab": {
          "base_uri": "https://localhost:8080/"
        },
        "id": "CLF-63QwDeXC",
        "outputId": "579bf63c-6156-4858-aac5-84d31d30ac40"
      },
      "execution_count": null,
      "outputs": [
        {
          "output_type": "stream",
          "name": "stdout",
          "text": [
            "<class 'pandas.core.frame.DataFrame'>\n",
            "RangeIndex: 9994 entries, 0 to 9993\n",
            "Data columns (total 19 columns):\n",
            " #   Column         Non-Null Count  Dtype  \n",
            "---  ------         --------------  -----  \n",
            " 0   order_id       9994 non-null   object \n",
            " 1   order_date     9994 non-null   object \n",
            " 2   ship_date      9994 non-null   object \n",
            " 3   customer       9994 non-null   object \n",
            " 4   manufactory    9994 non-null   object \n",
            " 5   product_name   9994 non-null   object \n",
            " 6   segment        9994 non-null   object \n",
            " 7   category       9994 non-null   object \n",
            " 8   subcategory    9994 non-null   object \n",
            " 9   region         9994 non-null   object \n",
            " 10  zip            9994 non-null   int64  \n",
            " 11  city           9994 non-null   object \n",
            " 12  state          9994 non-null   object \n",
            " 13  country        9994 non-null   object \n",
            " 14  discount       9994 non-null   float64\n",
            " 15  profit         9994 non-null   float64\n",
            " 16  quantity       9994 non-null   int64  \n",
            " 17  sales          9994 non-null   float64\n",
            " 18  profit_margin  9994 non-null   float64\n",
            "dtypes: float64(4), int64(2), object(13)\n",
            "memory usage: 1.4+ MB\n"
          ]
        }
      ]
    },
    {
      "cell_type": "markdown",
      "source": [
        "Berdasarkan output diatas, dapat disimpulkan bahwa dataset tersebut, memiliki total: 19 kolom, dengan jumlah maksimal baris untuk setiap kolom sebanyak: 9994 baris."
      ],
      "metadata": {
        "id": "hAWAMjB-Jz5W"
      }
    },
    {
      "cell_type": "markdown",
      "source": [
        "# Data Cleaning and Preparation"
      ],
      "metadata": {
        "id": "4co6608Sb5g-"
      }
    },
    {
      "cell_type": "markdown",
      "source": [
        "---\n",
        "Time Series\n",
        "\n",
        "---\n",
        "\n",
        "\n"
      ],
      "metadata": {
        "id": "E-o1g_tFcE86"
      }
    },
    {
      "cell_type": "code",
      "source": [
        "data['order_date'] = pd.to_datetime(data['order_date'])\n",
        "data['ship_date'] = pd.to_datetime(data['ship_date'])\n",
        "\n",
        "#extract year and month from order_date\n",
        "data['order_year'] = data['order_date'].dt.year\n",
        "data['order_month'] = data['order_date'].dt.month\n",
        "\n",
        "#extract year and month from ship_date\n",
        "data['ship_year']=data['ship_date'].dt.year\n",
        "data['ship_month']=data['ship_date'].dt.month\n",
        "\n",
        "data.info()"
      ],
      "metadata": {
        "colab": {
          "base_uri": "https://localhost:8080/"
        },
        "id": "MfywHyM9cuCX",
        "outputId": "2ce6ae02-83da-49e9-fabe-17a793af574a"
      },
      "execution_count": null,
      "outputs": [
        {
          "output_type": "stream",
          "name": "stdout",
          "text": [
            "<class 'pandas.core.frame.DataFrame'>\n",
            "RangeIndex: 9994 entries, 0 to 9993\n",
            "Data columns (total 23 columns):\n",
            " #   Column         Non-Null Count  Dtype         \n",
            "---  ------         --------------  -----         \n",
            " 0   order_id       9994 non-null   object        \n",
            " 1   order_date     9994 non-null   datetime64[ns]\n",
            " 2   ship_date      9994 non-null   datetime64[ns]\n",
            " 3   customer       9994 non-null   object        \n",
            " 4   manufactory    9994 non-null   object        \n",
            " 5   product_name   9994 non-null   object        \n",
            " 6   segment        9994 non-null   object        \n",
            " 7   category       9994 non-null   object        \n",
            " 8   subcategory    9994 non-null   object        \n",
            " 9   region         9994 non-null   object        \n",
            " 10  zip            9994 non-null   int64         \n",
            " 11  city           9994 non-null   object        \n",
            " 12  state          9994 non-null   object        \n",
            " 13  country        9994 non-null   object        \n",
            " 14  discount       9994 non-null   float64       \n",
            " 15  profit         9994 non-null   float64       \n",
            " 16  quantity       9994 non-null   int64         \n",
            " 17  sales          9994 non-null   float64       \n",
            " 18  profit_margin  9994 non-null   float64       \n",
            " 19  order_year     9994 non-null   int32         \n",
            " 20  order_month    9994 non-null   int32         \n",
            " 21  ship_year      9994 non-null   int32         \n",
            " 22  ship_month     9994 non-null   int32         \n",
            "dtypes: datetime64[ns](2), float64(4), int32(4), int64(2), object(11)\n",
            "memory usage: 1.6+ MB\n"
          ]
        }
      ]
    },
    {
      "cell_type": "markdown",
      "source": [
        "---\n",
        "**Missing Value**\n",
        "\n",
        "---\n",
        "\n"
      ],
      "metadata": {
        "id": "W1gNLjOdLjP5"
      }
    },
    {
      "cell_type": "markdown",
      "source": [
        "Untuk mendeteksi suatu Missing Value dapat digunakan fungsi isnull()"
      ],
      "metadata": {
        "id": "zz8A9jsQMFLZ"
      }
    },
    {
      "cell_type": "code",
      "source": [
        "data.isnull().any()"
      ],
      "metadata": {
        "colab": {
          "base_uri": "https://localhost:8080/"
        },
        "id": "0p_qR93QLTjT",
        "outputId": "810aad16-f7c7-49e2-8d25-cb91cef4b4cf"
      },
      "execution_count": null,
      "outputs": [
        {
          "output_type": "execute_result",
          "data": {
            "text/plain": [
              "order_id         False\n",
              "order_date       False\n",
              "ship_date        False\n",
              "customer         False\n",
              "manufactory      False\n",
              "product_name     False\n",
              "segment          False\n",
              "category         False\n",
              "subcategory      False\n",
              "region           False\n",
              "zip              False\n",
              "city             False\n",
              "state            False\n",
              "country          False\n",
              "discount         False\n",
              "profit           False\n",
              "quantity         False\n",
              "sales            False\n",
              "profit_margin    False\n",
              "dtype: bool"
            ]
          },
          "metadata": {},
          "execution_count": 19
        }
      ]
    },
    {
      "cell_type": "markdown",
      "source": [
        "Berdasarkan output diatas, jika hasil output tertulis False, artinya kolom tersebut tidak mengandung Missing Values.\n",
        "Untuk mengetahui jumlah missing value tiap kolom, dapat digunakan sum()"
      ],
      "metadata": {
        "id": "FZYYYO5VMBlW"
      }
    },
    {
      "cell_type": "code",
      "source": [
        "data.isnull().sum()"
      ],
      "metadata": {
        "colab": {
          "base_uri": "https://localhost:8080/"
        },
        "id": "RmTdGMVYKfa6",
        "outputId": "8d6702db-4bd3-47fc-fd9e-b53c90735006"
      },
      "execution_count": null,
      "outputs": [
        {
          "output_type": "execute_result",
          "data": {
            "text/plain": [
              "order_id         0\n",
              "order_date       0\n",
              "ship_date        0\n",
              "customer         0\n",
              "manufactory      0\n",
              "product_name     0\n",
              "segment          0\n",
              "category         0\n",
              "subcategory      0\n",
              "region           0\n",
              "zip              0\n",
              "city             0\n",
              "state            0\n",
              "country          0\n",
              "discount         0\n",
              "profit           0\n",
              "quantity         0\n",
              "sales            0\n",
              "profit_margin    0\n",
              "dtype: int64"
            ]
          },
          "metadata": {},
          "execution_count": 20
        }
      ]
    },
    {
      "cell_type": "markdown",
      "source": [
        "Berdasarkan output summarize tersebut, tidak kolom yang mengandung Missing Values (blanks/ N/A (Python : nan atau NaN))"
      ],
      "metadata": {
        "id": "HCO9Ev-nMnwE"
      }
    },
    {
      "cell_type": "code",
      "source": [
        "#Total Number of Missing NA\n",
        "data.isnull().sum().sum()"
      ],
      "metadata": {
        "colab": {
          "base_uri": "https://localhost:8080/"
        },
        "id": "Zz1n9PfyMv2J",
        "outputId": "21e7707a-b955-4fe1-eba6-d112e1fa3c56"
      },
      "execution_count": null,
      "outputs": [
        {
          "output_type": "execute_result",
          "data": {
            "text/plain": [
              "0"
            ]
          },
          "metadata": {},
          "execution_count": 22
        }
      ]
    },
    {
      "cell_type": "markdown",
      "source": [
        "# Data Understanding"
      ],
      "metadata": {
        "id": "p2wBGSDdjY12"
      }
    },
    {
      "cell_type": "code",
      "source": [
        "data.describe(exclude=['int64', 'float64', 'datetime64[ns]', 'int32']).transpose()"
      ],
      "metadata": {
        "colab": {
          "base_uri": "https://localhost:8080/",
          "height": 394
        },
        "id": "Z-zW3PajU5ji",
        "outputId": "b108d582-26d2-4607-e7a6-d6cb938e602b"
      },
      "execution_count": null,
      "outputs": [
        {
          "output_type": "execute_result",
          "data": {
            "text/plain": [
              "             count unique              top  freq\n",
              "order_id      9994   5009   US-2023-100111    14\n",
              "customer      9994    793    William Brown    37\n",
              "manufactory   9994    182            Other  1893\n",
              "product_name  9994   1849  Staple envelope    48\n",
              "segment       9994      3         Consumer  5191\n",
              "category      9994      3  Office Supplies  6026\n",
              "subcategory   9994     17          Binders  1523\n",
              "region        9994      4             West  3203\n",
              "city          9994    531    New York City   915\n",
              "state         9994     49       California  2001\n",
              "country       9994      1    United States  9994"
            ],
            "text/html": [
              "\n",
              "  <div id=\"df-6d68863a-a732-4e74-9e90-9b5cacf96fe6\" class=\"colab-df-container\">\n",
              "    <div>\n",
              "<style scoped>\n",
              "    .dataframe tbody tr th:only-of-type {\n",
              "        vertical-align: middle;\n",
              "    }\n",
              "\n",
              "    .dataframe tbody tr th {\n",
              "        vertical-align: top;\n",
              "    }\n",
              "\n",
              "    .dataframe thead th {\n",
              "        text-align: right;\n",
              "    }\n",
              "</style>\n",
              "<table border=\"1\" class=\"dataframe\">\n",
              "  <thead>\n",
              "    <tr style=\"text-align: right;\">\n",
              "      <th></th>\n",
              "      <th>count</th>\n",
              "      <th>unique</th>\n",
              "      <th>top</th>\n",
              "      <th>freq</th>\n",
              "    </tr>\n",
              "  </thead>\n",
              "  <tbody>\n",
              "    <tr>\n",
              "      <th>order_id</th>\n",
              "      <td>9994</td>\n",
              "      <td>5009</td>\n",
              "      <td>US-2023-100111</td>\n",
              "      <td>14</td>\n",
              "    </tr>\n",
              "    <tr>\n",
              "      <th>customer</th>\n",
              "      <td>9994</td>\n",
              "      <td>793</td>\n",
              "      <td>William Brown</td>\n",
              "      <td>37</td>\n",
              "    </tr>\n",
              "    <tr>\n",
              "      <th>manufactory</th>\n",
              "      <td>9994</td>\n",
              "      <td>182</td>\n",
              "      <td>Other</td>\n",
              "      <td>1893</td>\n",
              "    </tr>\n",
              "    <tr>\n",
              "      <th>product_name</th>\n",
              "      <td>9994</td>\n",
              "      <td>1849</td>\n",
              "      <td>Staple envelope</td>\n",
              "      <td>48</td>\n",
              "    </tr>\n",
              "    <tr>\n",
              "      <th>segment</th>\n",
              "      <td>9994</td>\n",
              "      <td>3</td>\n",
              "      <td>Consumer</td>\n",
              "      <td>5191</td>\n",
              "    </tr>\n",
              "    <tr>\n",
              "      <th>category</th>\n",
              "      <td>9994</td>\n",
              "      <td>3</td>\n",
              "      <td>Office Supplies</td>\n",
              "      <td>6026</td>\n",
              "    </tr>\n",
              "    <tr>\n",
              "      <th>subcategory</th>\n",
              "      <td>9994</td>\n",
              "      <td>17</td>\n",
              "      <td>Binders</td>\n",
              "      <td>1523</td>\n",
              "    </tr>\n",
              "    <tr>\n",
              "      <th>region</th>\n",
              "      <td>9994</td>\n",
              "      <td>4</td>\n",
              "      <td>West</td>\n",
              "      <td>3203</td>\n",
              "    </tr>\n",
              "    <tr>\n",
              "      <th>city</th>\n",
              "      <td>9994</td>\n",
              "      <td>531</td>\n",
              "      <td>New York City</td>\n",
              "      <td>915</td>\n",
              "    </tr>\n",
              "    <tr>\n",
              "      <th>state</th>\n",
              "      <td>9994</td>\n",
              "      <td>49</td>\n",
              "      <td>California</td>\n",
              "      <td>2001</td>\n",
              "    </tr>\n",
              "    <tr>\n",
              "      <th>country</th>\n",
              "      <td>9994</td>\n",
              "      <td>1</td>\n",
              "      <td>United States</td>\n",
              "      <td>9994</td>\n",
              "    </tr>\n",
              "  </tbody>\n",
              "</table>\n",
              "</div>\n",
              "    <div class=\"colab-df-buttons\">\n",
              "\n",
              "  <div class=\"colab-df-container\">\n",
              "    <button class=\"colab-df-convert\" onclick=\"convertToInteractive('df-6d68863a-a732-4e74-9e90-9b5cacf96fe6')\"\n",
              "            title=\"Convert this dataframe to an interactive table.\"\n",
              "            style=\"display:none;\">\n",
              "\n",
              "  <svg xmlns=\"http://www.w3.org/2000/svg\" height=\"24px\" viewBox=\"0 -960 960 960\">\n",
              "    <path d=\"M120-120v-720h720v720H120Zm60-500h600v-160H180v160Zm220 220h160v-160H400v160Zm0 220h160v-160H400v160ZM180-400h160v-160H180v160Zm440 0h160v-160H620v160ZM180-180h160v-160H180v160Zm440 0h160v-160H620v160Z\"/>\n",
              "  </svg>\n",
              "    </button>\n",
              "\n",
              "  <style>\n",
              "    .colab-df-container {\n",
              "      display:flex;\n",
              "      gap: 12px;\n",
              "    }\n",
              "\n",
              "    .colab-df-convert {\n",
              "      background-color: #E8F0FE;\n",
              "      border: none;\n",
              "      border-radius: 50%;\n",
              "      cursor: pointer;\n",
              "      display: none;\n",
              "      fill: #1967D2;\n",
              "      height: 32px;\n",
              "      padding: 0 0 0 0;\n",
              "      width: 32px;\n",
              "    }\n",
              "\n",
              "    .colab-df-convert:hover {\n",
              "      background-color: #E2EBFA;\n",
              "      box-shadow: 0px 1px 2px rgba(60, 64, 67, 0.3), 0px 1px 3px 1px rgba(60, 64, 67, 0.15);\n",
              "      fill: #174EA6;\n",
              "    }\n",
              "\n",
              "    .colab-df-buttons div {\n",
              "      margin-bottom: 4px;\n",
              "    }\n",
              "\n",
              "    [theme=dark] .colab-df-convert {\n",
              "      background-color: #3B4455;\n",
              "      fill: #D2E3FC;\n",
              "    }\n",
              "\n",
              "    [theme=dark] .colab-df-convert:hover {\n",
              "      background-color: #434B5C;\n",
              "      box-shadow: 0px 1px 3px 1px rgba(0, 0, 0, 0.15);\n",
              "      filter: drop-shadow(0px 1px 2px rgba(0, 0, 0, 0.3));\n",
              "      fill: #FFFFFF;\n",
              "    }\n",
              "  </style>\n",
              "\n",
              "    <script>\n",
              "      const buttonEl =\n",
              "        document.querySelector('#df-6d68863a-a732-4e74-9e90-9b5cacf96fe6 button.colab-df-convert');\n",
              "      buttonEl.style.display =\n",
              "        google.colab.kernel.accessAllowed ? 'block' : 'none';\n",
              "\n",
              "      async function convertToInteractive(key) {\n",
              "        const element = document.querySelector('#df-6d68863a-a732-4e74-9e90-9b5cacf96fe6');\n",
              "        const dataTable =\n",
              "          await google.colab.kernel.invokeFunction('convertToInteractive',\n",
              "                                                    [key], {});\n",
              "        if (!dataTable) return;\n",
              "\n",
              "        const docLinkHtml = 'Like what you see? Visit the ' +\n",
              "          '<a target=\"_blank\" href=https://colab.research.google.com/notebooks/data_table.ipynb>data table notebook</a>'\n",
              "          + ' to learn more about interactive tables.';\n",
              "        element.innerHTML = '';\n",
              "        dataTable['output_type'] = 'display_data';\n",
              "        await google.colab.output.renderOutput(dataTable, element);\n",
              "        const docLink = document.createElement('div');\n",
              "        docLink.innerHTML = docLinkHtml;\n",
              "        element.appendChild(docLink);\n",
              "      }\n",
              "    </script>\n",
              "  </div>\n",
              "\n",
              "\n",
              "<div id=\"df-d3d703d7-8540-45d3-91b5-6721bb0c7b73\">\n",
              "  <button class=\"colab-df-quickchart\" onclick=\"quickchart('df-d3d703d7-8540-45d3-91b5-6721bb0c7b73')\"\n",
              "            title=\"Suggest charts\"\n",
              "            style=\"display:none;\">\n",
              "\n",
              "<svg xmlns=\"http://www.w3.org/2000/svg\" height=\"24px\"viewBox=\"0 0 24 24\"\n",
              "     width=\"24px\">\n",
              "    <g>\n",
              "        <path d=\"M19 3H5c-1.1 0-2 .9-2 2v14c0 1.1.9 2 2 2h14c1.1 0 2-.9 2-2V5c0-1.1-.9-2-2-2zM9 17H7v-7h2v7zm4 0h-2V7h2v10zm4 0h-2v-4h2v4z\"/>\n",
              "    </g>\n",
              "</svg>\n",
              "  </button>\n",
              "\n",
              "<style>\n",
              "  .colab-df-quickchart {\n",
              "      --bg-color: #E8F0FE;\n",
              "      --fill-color: #1967D2;\n",
              "      --hover-bg-color: #E2EBFA;\n",
              "      --hover-fill-color: #174EA6;\n",
              "      --disabled-fill-color: #AAA;\n",
              "      --disabled-bg-color: #DDD;\n",
              "  }\n",
              "\n",
              "  [theme=dark] .colab-df-quickchart {\n",
              "      --bg-color: #3B4455;\n",
              "      --fill-color: #D2E3FC;\n",
              "      --hover-bg-color: #434B5C;\n",
              "      --hover-fill-color: #FFFFFF;\n",
              "      --disabled-bg-color: #3B4455;\n",
              "      --disabled-fill-color: #666;\n",
              "  }\n",
              "\n",
              "  .colab-df-quickchart {\n",
              "    background-color: var(--bg-color);\n",
              "    border: none;\n",
              "    border-radius: 50%;\n",
              "    cursor: pointer;\n",
              "    display: none;\n",
              "    fill: var(--fill-color);\n",
              "    height: 32px;\n",
              "    padding: 0;\n",
              "    width: 32px;\n",
              "  }\n",
              "\n",
              "  .colab-df-quickchart:hover {\n",
              "    background-color: var(--hover-bg-color);\n",
              "    box-shadow: 0 1px 2px rgba(60, 64, 67, 0.3), 0 1px 3px 1px rgba(60, 64, 67, 0.15);\n",
              "    fill: var(--button-hover-fill-color);\n",
              "  }\n",
              "\n",
              "  .colab-df-quickchart-complete:disabled,\n",
              "  .colab-df-quickchart-complete:disabled:hover {\n",
              "    background-color: var(--disabled-bg-color);\n",
              "    fill: var(--disabled-fill-color);\n",
              "    box-shadow: none;\n",
              "  }\n",
              "\n",
              "  .colab-df-spinner {\n",
              "    border: 2px solid var(--fill-color);\n",
              "    border-color: transparent;\n",
              "    border-bottom-color: var(--fill-color);\n",
              "    animation:\n",
              "      spin 1s steps(1) infinite;\n",
              "  }\n",
              "\n",
              "  @keyframes spin {\n",
              "    0% {\n",
              "      border-color: transparent;\n",
              "      border-bottom-color: var(--fill-color);\n",
              "      border-left-color: var(--fill-color);\n",
              "    }\n",
              "    20% {\n",
              "      border-color: transparent;\n",
              "      border-left-color: var(--fill-color);\n",
              "      border-top-color: var(--fill-color);\n",
              "    }\n",
              "    30% {\n",
              "      border-color: transparent;\n",
              "      border-left-color: var(--fill-color);\n",
              "      border-top-color: var(--fill-color);\n",
              "      border-right-color: var(--fill-color);\n",
              "    }\n",
              "    40% {\n",
              "      border-color: transparent;\n",
              "      border-right-color: var(--fill-color);\n",
              "      border-top-color: var(--fill-color);\n",
              "    }\n",
              "    60% {\n",
              "      border-color: transparent;\n",
              "      border-right-color: var(--fill-color);\n",
              "    }\n",
              "    80% {\n",
              "      border-color: transparent;\n",
              "      border-right-color: var(--fill-color);\n",
              "      border-bottom-color: var(--fill-color);\n",
              "    }\n",
              "    90% {\n",
              "      border-color: transparent;\n",
              "      border-bottom-color: var(--fill-color);\n",
              "    }\n",
              "  }\n",
              "</style>\n",
              "\n",
              "  <script>\n",
              "    async function quickchart(key) {\n",
              "      const quickchartButtonEl =\n",
              "        document.querySelector('#' + key + ' button');\n",
              "      quickchartButtonEl.disabled = true;  // To prevent multiple clicks.\n",
              "      quickchartButtonEl.classList.add('colab-df-spinner');\n",
              "      try {\n",
              "        const charts = await google.colab.kernel.invokeFunction(\n",
              "            'suggestCharts', [key], {});\n",
              "      } catch (error) {\n",
              "        console.error('Error during call to suggestCharts:', error);\n",
              "      }\n",
              "      quickchartButtonEl.classList.remove('colab-df-spinner');\n",
              "      quickchartButtonEl.classList.add('colab-df-quickchart-complete');\n",
              "    }\n",
              "    (() => {\n",
              "      let quickchartButtonEl =\n",
              "        document.querySelector('#df-d3d703d7-8540-45d3-91b5-6721bb0c7b73 button');\n",
              "      quickchartButtonEl.style.display =\n",
              "        google.colab.kernel.accessAllowed ? 'block' : 'none';\n",
              "    })();\n",
              "  </script>\n",
              "</div>\n",
              "    </div>\n",
              "  </div>\n"
            ],
            "application/vnd.google.colaboratory.intrinsic+json": {
              "type": "dataframe",
              "summary": "{\n  \"name\": \"data\",\n  \"rows\": 11,\n  \"fields\": [\n    {\n      \"column\": \"count\",\n      \"properties\": {\n        \"dtype\": \"date\",\n        \"min\": \"9994\",\n        \"max\": \"9994\",\n        \"num_unique_values\": 1,\n        \"samples\": [\n          \"9994\"\n        ],\n        \"semantic_type\": \"\",\n        \"description\": \"\"\n      }\n    },\n    {\n      \"column\": \"unique\",\n      \"properties\": {\n        \"dtype\": \"date\",\n        \"min\": 1,\n        \"max\": 5009,\n        \"num_unique_values\": 10,\n        \"samples\": [\n          49\n        ],\n        \"semantic_type\": \"\",\n        \"description\": \"\"\n      }\n    },\n    {\n      \"column\": \"top\",\n      \"properties\": {\n        \"dtype\": \"string\",\n        \"num_unique_values\": 11,\n        \"samples\": [\n          \"Office Supplies\"\n        ],\n        \"semantic_type\": \"\",\n        \"description\": \"\"\n      }\n    },\n    {\n      \"column\": \"freq\",\n      \"properties\": {\n        \"dtype\": \"date\",\n        \"min\": \"14\",\n        \"max\": \"9994\",\n        \"num_unique_values\": 11,\n        \"samples\": [\n          \"6026\"\n        ],\n        \"semantic_type\": \"\",\n        \"description\": \"\"\n      }\n    }\n  ]\n}"
            }
          },
          "metadata": {},
          "execution_count": 80
        }
      ]
    },
    {
      "cell_type": "markdown",
      "source": [
        "Dari output di atas, didapatkan beberapa informasi, diantaranya:\n",
        "1.  order_id merupakan unique identifier yang nanti akan digunakan untuk menghitung rows di Tableau serta menjadi primary ket di SQL table creation\n",
        "2. terdapat 793 customer unik, bisa jadi karena order di hari yg sama namun berbeda barang. Customer paling sering melakukan transaksi ialah William Brown sebanyak 37 kali\n",
        "3. 1849 macam produk dalam toko ini. Produk yang paling banyak dibeli ialah Staple envelope\n",
        "4. New York City menjadi top city dari seluruh 531 kota di United States\n"
      ],
      "metadata": {
        "id": "zQ2OZj3eWn8e"
      }
    },
    {
      "cell_type": "code",
      "source": [
        "cats_to_visualize=['product_name', 'category', 'subcategory', 'city', 'state']"
      ],
      "metadata": {
        "id": "8TTYnNX4hc25"
      },
      "execution_count": null,
      "outputs": []
    },
    {
      "cell_type": "code",
      "source": [
        "#Categorical Counts\n",
        "for col in cats_to_visualize :\n",
        "  print(f'Value counts untuk {col} :')\n",
        "  print(data[col].value_counts(), '\\n')"
      ],
      "metadata": {
        "colab": {
          "base_uri": "https://localhost:8080/"
        },
        "id": "R-XtrrisWQoC",
        "outputId": "8c8108b1-b0dd-4a6a-8264-aadec20a17c5"
      },
      "execution_count": null,
      "outputs": [
        {
          "output_type": "stream",
          "name": "stdout",
          "text": [
            "Value counts untuk product_name :\n",
            "product_name\n",
            "Staple envelope                                                      48\n",
            "Staples                                                              46\n",
            "Easy-staple paper                                                    46\n",
            "Avery Non-Stick Binders                                              20\n",
            "Staples in misc. colors                                              19\n",
            "                                                                     ..\n",
            "Eldon Jumbo ProFile Portable File Boxes Graphite/Black                1\n",
            "Newell 342                                                            1\n",
            "Belkin 7 Outlet SurgeMaster Surge Protector with Phone Protection     1\n",
            "RCA ViSYS 25423RE1 Corded phone                                       1\n",
            "Acco Glide Clips                                                      1\n",
            "Name: count, Length: 1849, dtype: int64 \n",
            "\n",
            "Value counts untuk category :\n",
            "category\n",
            "Office Supplies    6026\n",
            "Furniture          2121\n",
            "Technology         1847\n",
            "Name: count, dtype: int64 \n",
            "\n",
            "Value counts untuk subcategory :\n",
            "subcategory\n",
            "Binders        1523\n",
            "Paper          1370\n",
            "Furnishings     957\n",
            "Phones          889\n",
            "Storage         846\n",
            "Art             796\n",
            "Accessories     775\n",
            "Chairs          617\n",
            "Appliances      466\n",
            "Labels          364\n",
            "Tables          319\n",
            "Envelopes       254\n",
            "Bookcases       228\n",
            "Fasteners       217\n",
            "Supplies        190\n",
            "Machines        115\n",
            "Copiers          68\n",
            "Name: count, dtype: int64 \n",
            "\n",
            "Value counts untuk city :\n",
            "city\n",
            "New York City    915\n",
            "Los Angeles      747\n",
            "Philadelphia     537\n",
            "San Francisco    510\n",
            "Seattle          428\n",
            "                ... \n",
            "Holyoke            1\n",
            "Yucaipa            1\n",
            "Murrieta           1\n",
            "Antioch            1\n",
            "Danbury            1\n",
            "Name: count, Length: 531, dtype: int64 \n",
            "\n",
            "Value counts untuk state :\n",
            "state\n",
            "California              2001\n",
            "New York                1128\n",
            "Texas                    985\n",
            "Pennsylvania             587\n",
            "Washington               506\n",
            "Illinois                 492\n",
            "Ohio                     469\n",
            "Florida                  383\n",
            "Michigan                 255\n",
            "North Carolina           249\n",
            "Arizona                  224\n",
            "Virginia                 224\n",
            "Georgia                  184\n",
            "Tennessee                183\n",
            "Colorado                 182\n",
            "Indiana                  149\n",
            "Kentucky                 139\n",
            "Massachusetts            135\n",
            "New Jersey               130\n",
            "Oregon                   124\n",
            "Wisconsin                110\n",
            "Maryland                 105\n",
            "Delaware                  96\n",
            "Minnesota                 89\n",
            "Connecticut               82\n",
            "Oklahoma                  66\n",
            "Missouri                  66\n",
            "Alabama                   61\n",
            "Arkansas                  60\n",
            "Rhode Island              56\n",
            "Utah                      53\n",
            "Mississippi               53\n",
            "South Carolina            42\n",
            "Louisiana                 42\n",
            "Nevada                    39\n",
            "Nebraska                  38\n",
            "New Mexico                37\n",
            "Iowa                      30\n",
            "New Hampshire             27\n",
            "Kansas                    24\n",
            "Idaho                     21\n",
            "Montana                   15\n",
            "South Dakota              12\n",
            "Vermont                   11\n",
            "District of Columbia      10\n",
            "Maine                      8\n",
            "North Dakota               7\n",
            "West Virginia              4\n",
            "Wyoming                    1\n",
            "Name: count, dtype: int64 \n",
            "\n"
          ]
        }
      ]
    },
    {
      "cell_type": "markdown",
      "source": [],
      "metadata": {
        "id": "Yrkl6fqOPA1p"
      }
    },
    {
      "cell_type": "code",
      "source": [
        "#Export the final dataframe\n",
        "data.to_csv('superstore_dataset_final.csv', index=False)"
      ],
      "metadata": {
        "id": "yRwpkAVAnNBZ"
      },
      "execution_count": null,
      "outputs": []
    }
  ]
}